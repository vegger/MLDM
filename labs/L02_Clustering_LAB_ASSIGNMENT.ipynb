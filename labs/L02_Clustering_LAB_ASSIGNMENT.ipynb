{
  "cells": [
    {
      "cell_type": "markdown",
      "metadata": {
        "id": "view-in-github",
        "colab_type": "text"
      },
      "source": [
        "<a href=\"https://colab.research.google.com/github/vegger/MLDM/blob/main/L02_Clustering_LAB_ASSIGNMENT.ipynb\" target=\"_parent\"><img src=\"https://colab.research.google.com/assets/colab-badge.svg\" alt=\"Open In Colab\"/></a>"
      ]
    },
    {
      "cell_type": "code",
      "execution_count": null,
      "metadata": {
        "id": "8bPV9aEwTKC8"
      },
      "outputs": [],
      "source": [
        "import numpy as np\n",
        "from matplotlib import pyplot as plt"
      ]
    },
    {
      "cell_type": "code",
      "execution_count": null,
      "metadata": {
        "id": "jFHJbjkfeepf"
      },
      "outputs": [],
      "source": [
        "RANDOM_SEED = 0x0"
      ]
    },
    {
      "cell_type": "markdown",
      "metadata": {
        "id": "PeKVmElId1GV"
      },
      "source": [
        "# TASK 1 (3 Points): K-Means using scikit-learn"
      ]
    },
    {
      "cell_type": "markdown",
      "metadata": {
        "id": "mxVgesOod7-p"
      },
      "source": [
        "First we will generate some data. The variable `X` will contain the data used in this section."
      ]
    },
    {
      "cell_type": "code",
      "execution_count": null,
      "metadata": {
        "id": "8x-oK1d5eDS9"
      },
      "outputs": [],
      "source": [
        "from sklearn.datasets import make_blobs"
      ]
    },
    {
      "cell_type": "code",
      "execution_count": null,
      "metadata": {
        "id": "nVE6ffy8eM_L"
      },
      "outputs": [],
      "source": [
        "X, _ = make_blobs(\n",
        "    n_samples=300,\n",
        "    centers=4,\n",
        "    cluster_std=.6,\n",
        "    random_state=RANDOM_SEED,\n",
        ")\n",
        "\n",
        "plt.scatter(X[:, 0], X[:, 1], s=50)"
      ]
    },
    {
      "cell_type": "markdown",
      "metadata": {
        "id": "zCIJgMccfP62"
      },
      "source": [
        "### Task 1a\n",
        "\n",
        "Cluster the above data using the K-Means implementation provided by scikit-learn.\n",
        "Refer to the official documentation: <https://scikit-learn.org/stable/modules/generated/sklearn.cluster.KMeans.html>\n",
        "\n",
        "* create an instance of the class `sklearn.cluster.KMeans`\n",
        "* choose a suitable value for the `n_clusters` parameter\n",
        "* call the `.fit` method to compute the clustering\n",
        "* call the `.predict` method to get cluster labels for each data point"
      ]
    },
    {
      "cell_type": "code",
      "execution_count": null,
      "metadata": {
        "id": "2GhgP1ZSjdcW"
      },
      "outputs": [],
      "source": [
        "from sklearn.cluster import KMeans"
      ]
    },
    {
      "cell_type": "code",
      "execution_count": null,
      "metadata": {
        "id": "VU-xKgpsgfz1"
      },
      "outputs": [],
      "source": []
    },
    {
      "cell_type": "markdown",
      "metadata": {
        "id": "eXYqBlltiBmb"
      },
      "source": [
        "### Task 1b\n",
        "\n",
        "Visualize the resulting clustering.\n",
        "\n",
        "* use the `plt.scatter` function (see: <https://matplotlib.org/stable/api/_as_gen/matplotlib.pyplot.scatter.html>)\n",
        "* set the color parameter `c` to the cluster labels you computed above\n",
        "\n",
        "* Optional: also plot the cluster centers (hint: call `plt.scatter` a second time, the cluster centers are stored in the `.cluster_centers_` member of the `KMeans` object)"
      ]
    },
    {
      "cell_type": "code",
      "execution_count": null,
      "metadata": {
        "id": "sXOm6omAg83G"
      },
      "outputs": [],
      "source": []
    },
    {
      "cell_type": "markdown",
      "metadata": {
        "id": "21Kp9bM8jTbv"
      },
      "source": [
        "### Task 1c\n",
        "\n",
        "Try different numbers of clusters and print the average silhouette scores using\n",
        "`sklearn.metrics.silhouette_score`. Refer to the documentation: <https://scikit-learn.org/stable/modules/generated/sklearn.metrics.silhouette_score.html#sklearn.metrics.silhouette_score>\n",
        "\n",
        "* What does the silhouette score tell you?\n",
        "* What conclusions do you draw from the numbers?\n"
      ]
    },
    {
      "cell_type": "code",
      "execution_count": null,
      "metadata": {
        "id": "s5zTrdAIjrnA"
      },
      "outputs": [],
      "source": [
        "from sklearn.metrics import silhouette_score"
      ]
    },
    {
      "cell_type": "code",
      "execution_count": null,
      "metadata": {
        "id": "sjDFRRvJjwZm"
      },
      "outputs": [],
      "source": []
    },
    {
      "cell_type": "markdown",
      "metadata": {
        "id": "YGMDRdH1fp2P"
      },
      "source": [
        "## 📢 **HAND-IN** 📢: Report in Moodle whether you solved this task."
      ]
    },
    {
      "cell_type": "markdown",
      "metadata": {
        "id": "7wCCr_SqjGb3"
      },
      "source": [
        "# TASK 2 (2 Points): DBSCAN\n",
        "\n",
        "First, let's setup the data used in this section. We will redefine the variable `X` containing the data to be clustered."
      ]
    },
    {
      "cell_type": "code",
      "execution_count": null,
      "metadata": {
        "id": "kAkWhmjYlwJc"
      },
      "outputs": [],
      "source": [
        "from sklearn.datasets import make_moons"
      ]
    },
    {
      "cell_type": "code",
      "execution_count": null,
      "metadata": {
        "id": "JeZgx1Rnl1iS"
      },
      "outputs": [],
      "source": [
        "X, _ = make_moons(\n",
        "    n_samples=200,\n",
        "    noise=.05,\n",
        "    random_state=RANDOM_SEED,\n",
        ")"
      ]
    },
    {
      "cell_type": "code",
      "execution_count": null,
      "metadata": {
        "id": "MmdUwMF8l9Vg"
      },
      "outputs": [],
      "source": [
        "plt.scatter(X[:, 0], X[:, 1], s=50)"
      ]
    },
    {
      "cell_type": "markdown",
      "metadata": {
        "id": "AtivNvrGoF9v"
      },
      "source": [
        "### Task 2a\n",
        "\n",
        "* cluster the new data `X` using `KMeans`\n",
        "* set `n_clusters=2`\n",
        "* visualize and analyse the resulting clustering\n",
        "* What do you think of the result? Did something go wrong?"
      ]
    },
    {
      "cell_type": "code",
      "execution_count": null,
      "metadata": {
        "id": "Bf5mqNILoXVz"
      },
      "outputs": [],
      "source": []
    },
    {
      "cell_type": "markdown",
      "metadata": {
        "id": "yBr9_643pOMG"
      },
      "source": [
        "### Task 2b\n",
        "\n",
        "Let's use `sklearn.cluster.DBSCAN` instead. Refer to the documentation: <https://scikit-learn.org/stable/modules/generated/sklearn.cluster.DBSCAN.html>\n",
        "\n",
        "* cluster the data using `DBSCAN`\n",
        "* try different values for `eps` and `min_samples` until you can cluster the two half-moons"
      ]
    },
    {
      "cell_type": "code",
      "execution_count": null,
      "metadata": {
        "id": "42OURwFappgN"
      },
      "outputs": [],
      "source": [
        "from sklearn.cluster import DBSCAN"
      ]
    },
    {
      "cell_type": "code",
      "execution_count": null,
      "metadata": {
        "id": "mNVoC5AbpuHc"
      },
      "outputs": [],
      "source": []
    },
    {
      "cell_type": "markdown",
      "metadata": {
        "id": "jLTk8tewf_Ec"
      },
      "source": [
        "## 📢 **HAND-IN** 📢: Report in Moodle whether you solved this task."
      ]
    }
  ],
  "metadata": {
    "colab": {
      "private_outputs": true,
      "provenance": [],
      "include_colab_link": true
    },
    "kernelspec": {
      "display_name": "Python 3",
      "name": "python3"
    },
    "language_info": {
      "name": "python",
      "version": "3.9.12"
    }
  },
  "nbformat": 4,
  "nbformat_minor": 0
}